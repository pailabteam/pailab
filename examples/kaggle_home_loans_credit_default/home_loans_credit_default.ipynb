{
 "cells": [
  {
   "cell_type": "markdown",
   "metadata": {},
   "source": [
    "# Import Modules"
   ]
  },
  {
   "cell_type": "markdown",
   "metadata": {},
   "source": [
    "This notebook is based on the home loan default data set from [kaggle](https://www.kaggle.com/willkoehrsen/start-here-a-gentle-introduction). Therefore, to make it working with meaningful results, please download the data from kaggle."
   ]
  },
  {
   "cell_type": "code",
   "execution_count": 1,
   "metadata": {
    "ExecuteTime": {
     "end_time": "2019-12-19T12:21:29.897684Z",
     "start_time": "2019-12-19T12:21:24.317346Z"
    },
    "collapsed": true
   },
   "outputs": [],
   "source": [
    "import pandas as pd\n",
    "import numpy as np\n",
    "import matplotlib.pyplot as plt\n",
    "import logging as logging\n",
    "\n",
    "from sklearn import tree\n",
    "from sklearn.metrics import roc_curve, auc\n",
    "from sklearn import metrics\n",
    "\n",
    "from sklearn.ensemble import RandomForestClassifier, ExtraTreesClassifier\n",
    "from sklearn.metrics import roc_auc_score\n",
    "from sklearn.impute import SimpleImputer\n",
    "from sklearn.preprocessing import PolynomialFeatures\n",
    "\n",
    "from sklearn.model_selection import cross_val_score\n",
    "\n",
    "import pailab\n",
    "from pylab import rcParams\n",
    "\n",
    "%matplotlib inline\n",
    "\n",
    "logging.basicConfig(level=logging.FATAL)"
   ]
  },
  {
   "cell_type": "markdown",
   "metadata": {},
   "source": [
    "# Helperfunctions"
   ]
  },
  {
   "cell_type": "code",
   "execution_count": 2,
   "metadata": {
    "ExecuteTime": {
     "end_time": "2019-12-19T12:21:57.352549Z",
     "start_time": "2019-12-19T12:21:56.904329Z"
    },
    "code_folding": [
     11,
     30,
     40,
     50,
     64
    ],
    "collapsed": true
   },
   "outputs": [],
   "source": [
    "#\n",
    "import graphviz \n",
    "def plot_tree(tree_clf, feature_names = None):\n",
    "    dot_data = tree.export_graphviz(tree_clf, out_file=None, \n",
    "        feature_names=feature_names,\n",
    "        filled=True, rounded=True,  \n",
    "        special_characters=True)  \n",
    "\n",
    "    graph = graphviz.Source(dot_data)\n",
    "    return graph\n",
    "\n",
    "def plot_roc(tree_clf, x, y):\n",
    "    \n",
    "    for k,v in tree_clf.items():\n",
    "        y_score = v.predict_proba(x)\n",
    "        fpr, tpr, _ = roc_curve(y[:], y_score[:, 1])\n",
    "        roc_auc = roc_auc_score(y[:],y_score[:,1])# auc(fpr, tpr)\n",
    "        lw = 2\n",
    "        plt.plot(fpr, tpr, '-x', #color='darkorange',\n",
    "                 lw=lw, label = k + ' (area = %0.3f)' % roc_auc)\n",
    "    plt.plot([0, 1], [0, 1], color='navy', lw=lw, linestyle='--')\n",
    "    plt.xlim([0.0, 1.0])\n",
    "    plt.ylim([0.0, 1.05])\n",
    "    plt.xlabel('False Positive Rate')\n",
    "    plt.ylabel('True Positive Rate')\n",
    "    plt.title('Receiver operating characteristic example')\n",
    "    plt.legend(loc=\"lower right\")\n",
    "    #plt.show()\n",
    "    return plt\n",
    "\n",
    "def plot_probs(tree_clf, x, y):\n",
    "    alpha = 1.0\n",
    "    if len(tree_clf)> 1:\n",
    "        alpha = 0.5;\n",
    "    for k,v in tree_clf.items():\n",
    "        y_score = v.predict_proba(x)\n",
    "        plt.hist(y_score[:,1], alpha=alpha, label = k, bins = 50)\n",
    "    plt.legend()\n",
    "    return plt\n",
    "\n",
    "def plot_feature_importance(clf, feature_names):\n",
    "    feature_importance = {}\n",
    "    for k,v in clf.items():\n",
    "        feature_importance[k] = v.feature_importances_\n",
    "    feature_importance = pd.DataFrame(feature_importance)\n",
    "    feature_importance['FEATURE_NAME'] = feature_names\n",
    "    feature_importance.plot.bar(x='FEATURE_NAME')\n",
    "    plt.title('Feature Importance')\n",
    "\n",
    "    \n",
    "def tree_statistics(clf, x, y):\n",
    "    name = []\n",
    "    num_leaves = []\n",
    "    depth = []\n",
    "    roc_score = []\n",
    "    for k,v in clf.items():\n",
    "        name.append(k)\n",
    "        num_leaves.append(v.get_n_leaves())\n",
    "        depth.append(v.get_depth())\n",
    "        y_score = v.predict_proba(x)\n",
    "        roc_score.append(roc_auc_score(y[:],y_score[:,1]))\n",
    "    result = pd.DataFrame({'name': name, 'num_leaves': num_leaves, 'depth': depth, 'roc_auc_score': roc_score})\n",
    "    return result[['name', 'depth', 'num_leaves', 'roc_auc_score']]\n",
    "\n",
    "def forest_statistics(clf, x, y):\n",
    "    name = []\n",
    "    min_depth = []\n",
    "    max_depth = []\n",
    "    mean_depth = []\n",
    "    min_leaves = []\n",
    "    max_leaves = []\n",
    "    mean_leaves =[]\n",
    "    roc_score = []\n",
    "    for k,v in clf.items():\n",
    "        name.append(k)\n",
    "        leaves = [tree.get_n_leaves() for tree in v.estimators_]\n",
    "        min_leaves.append(np.min(leaves))\n",
    "        mean_leaves.append(np.mean(leaves))\n",
    "        max_leaves.append(np.max(leaves))\n",
    "        depth = [tree.get_depth() for tree in v.estimators_]\n",
    "        min_depth.append(np.min(depth))\n",
    "        max_depth.append(np.max(depth))\n",
    "        mean_depth.append(np.mean(depth))\n",
    "        y_score = v.predict_proba(x)\n",
    "        roc_score.append(roc_auc_score(y[:],y_score[:,1]))\n",
    "    result = pd.DataFrame({'name': name, 'min_leaves': min_leaves, 'max_leaves': max_leaves, 'mean_leaves': mean_leaves,\n",
    "                           'min_depth': min_depth, 'max_depth': max_depth, 'mean_depth': mean_depth, 'roc_auc_score': roc_score})\n",
    "    return result[['name', 'min_depth', 'max_depth', 'mean_depth', 'min_leaves', 'max_leaves', 'mean_leaves', 'roc_auc_score']]\n",
    "\n",
    "def plot_pruning(pruning_path, start = 0, end = -1):\n",
    "    ccp_alphas, impurities = pruning_path.ccp_alphas, path.impurities\n",
    "    plt.plot(ccp_alphas[start:end], impurities[start:end], marker='o', drawstyle=\"steps-post\")\n",
    "    plt.xlabel(\"effective alpha\")\n",
    "    plt.ylabel(\"total impurity of leaves\")\n",
    "    plt.title(\"Total Impurity vs effective alpha\")\n",
    "    \n",
    "def replace_type(column):\n",
    "    result = []\n",
    "    for occtype in full_data[column].unique():\n",
    "        result.append((full_data[full_data[column]==occtype]['TARGET'].sum(), occtype,))\n",
    "    result.sort()\n",
    "    replace_dict = {}\n",
    "    for i in range(len(result)):\n",
    "        replace_dict[result[i][1]] = i\n",
    "    return replace_dict\n"
   ]
  },
  {
   "cell_type": "markdown",
   "metadata": {},
   "source": [
    "# Setup Initial Repository"
   ]
  },
  {
   "cell_type": "code",
   "execution_count": 3,
   "metadata": {
    "collapsed": true
   },
   "outputs": [],
   "source": [
    "from pailab import MLRepo"
   ]
  },
  {
   "cell_type": "code",
   "execution_count": 4,
   "metadata": {
    "collapsed": true
   },
   "outputs": [],
   "source": [
    "# setting up the repository\n",
    "config = None\n",
    "if False:\n",
    "    config = {'user': 'test_user',\n",
    "          'workspace': 'c:/temp',\n",
    "          'repo_store': \n",
    "          {\n",
    "              'type': 'git_handler',  \n",
    "              'config': {\n",
    "                  'folder': 'c:/temp', \n",
    "                  'file_format': 'pck'\n",
    "              }\n",
    "          },\n",
    "          'numpy_store':\n",
    "          {\n",
    "              'type': 'hdf_handler',\n",
    "              'config':{\n",
    "                  'folder': 'c:/temp/hdf',\n",
    "                  'version_files': True\n",
    "              }\n",
    "          }\n",
    "         }\n",
    "ml_repo = MLRepo( user = 'test_user', config=None)\n",
    "from pailab.tools.tree import MLTree\n",
    "MLTree.add_tree(ml_repo)"
   ]
  },
  {
   "cell_type": "markdown",
   "metadata": {},
   "source": [
    "## Add Raw-Data to repository"
   ]
  },
  {
   "cell_type": "code",
   "execution_count": 5,
   "metadata": {
    "collapsed": true
   },
   "outputs": [],
   "source": [
    "full_data = pd.read_csv('application_train.zip')\n",
    "full_data['CREDIT_INCOME_RATIO'] = full_data['AMT_CREDIT'] / full_data['AMT_INCOME_TOTAL']\n",
    "full_data['ANNUITY_INCOME_RATIO'] = full_data['AMT_ANNUITY'] / full_data['AMT_INCOME_TOTAL']\n",
    "full_data['CREDIT_TERM'] = full_data['AMT_ANNUITY'] / full_data['AMT_CREDIT']\n",
    "full_data['YEARS_EMPLOYED_AGE_RATIO'] = full_data['YEARS_EMPLOYED']/full_data['AGE']\n",
    "full_data['GOODS_PRICE_CREDIT_RATIO'] = full_data['AMT_GOODS_PRICE'] / full_data['AMT_CREDIT']\n",
    "full_data['YEARS_EMPLOYED_ERROR'] = full_data['YEARS_EMPLOYED']<0\n",
    "\n",
    "# transformiere strings in Zahlen\n",
    "full_data['NAME_EDUCATION_TYPE'].replace(replace_type('NAME_EDUCATION_TYPE'), inplace=True)\n",
    "full_data['CODE_GENDER'].replace({'M':0.0, 'F':1.0, 'XNA':2.0}, inplace=True)\n",
    "full_data['FLAG_OWN_CAR'].replace({'N':0.0, 'Y':1.0}, inplace=True)\n",
    "full_data['FLAG_OWN_REALTY'].replace({'N':0.0, 'Y':1.0}, inplace=True)\n",
    "full_data['OCCUPATION_TYPE'].replace(replace_type('OCCUPATION_TYPE'), inplace=True)\n",
    "\n",
    "#drop rows with nans in column that are not handled by imputers\n",
    "full_data.dropna(subset=['CREDIT_INCOME_RATIO', 'ANNUITY_INCOME_RATIO', 'CREDIT_TERM', 'YEARS_EMPLOYED_AGE_RATIO', 'GOODS_PRICE_CREDIT_RATIO',\n",
    "                 'AGE', 'YEARS_EMPLOYED', 'YEARS_EMPLOYED_ERROR', 'NAME_EDUCATION_TYPE', 'CNT_CHILDREN', 'REGION_RATING_CLIENT', \n",
    "                  'REGION_RATING_CLIENT_W_CITY','REGION_POPULATION_RELATIVE', 'CODE_GENDER', 'FLAG_OWN_CAR', 'FLAG_OWN_REALTY', \n",
    "                  'REGION_RATING_CLIENT_W_CITY', 'OCCUPATION_TYPE'], inplace=True)"
   ]
  },
  {
   "cell_type": "code",
   "execution_count": 6,
   "metadata": {
    "collapsed": true
   },
   "outputs": [],
   "source": [
    "input_names = [x for x in full_data.columns if x is not 'TARGET']\n",
    "input_names.remove('TARGET')"
   ]
  },
  {
   "cell_type": "code",
   "execution_count": 7,
   "metadata": {
    "ExecuteTime": {
     "end_time": "2019-12-19T12:22:44.951555Z",
     "start_time": "2019-12-19T12:22:41.152887Z"
    },
    "collapsed": true
   },
   "outputs": [],
   "source": [
    "ml_repo.tree.raw_data.add('data', full_data, input_variables=input_names, target_variables='TARGET')"
   ]
  },
  {
   "cell_type": "markdown",
   "metadata": {},
   "source": [
    "## Add Preprocessors to the repository"
   ]
  },
  {
   "cell_type": "markdown",
   "metadata": {},
   "source": [
    "### Select subset of columns as input\n",
    "In case we dot not need all columns of the data for one of our models, we may add a preproessor selecting only certain columns."
   ]
  },
  {
   "cell_type": "code",
   "execution_count": 8,
   "metadata": {
    "collapsed": true
   },
   "outputs": [],
   "source": [
    "import pailab.externals.numpy_interface as numpy_interface\n",
    "select_columns = ['CREDIT_INCOME_RATIO', 'ANNUITY_INCOME_RATIO', 'CREDIT_TERM', 'YEARS_EMPLOYED_AGE_RATIO', 'GOODS_PRICE_CREDIT_RATIO',\n",
    "                 'AGE', 'YEARS_EMPLOYED', 'YEARS_EMPLOYED_ERROR', 'NAME_EDUCATION_TYPE', 'CNT_CHILDREN', 'REGION_RATING_CLIENT', \n",
    "                  'REGION_RATING_CLIENT_W_CITY','REGION_POPULATION_RELATIVE', 'CODE_GENDER', 'FLAG_OWN_CAR', 'FLAG_OWN_REALTY', \n",
    "                  'REGION_RATING_CLIENT_W_CITY', 'OCCUPATION_TYPE', 'EXT_SOURCE_1', 'EXT_SOURCE_2', 'EXT_SOURCE_3']\n",
    "numpy_interface.add_preprocessor_select_columns(ml_repo, preprocessor_name='column_selector_1', \n",
    "                                                preprocessor_param={'columns':select_columns})"
   ]
  },
  {
   "cell_type": "markdown",
   "metadata": {},
   "source": [
    "### Impute Missing Data"
   ]
  },
  {
   "cell_type": "markdown",
   "metadata": {},
   "source": [
    "To fill in missing data, we add the SimpleImputer using the median from SKLearn to impute missing values."
   ]
  },
  {
   "cell_type": "code",
   "execution_count": 9,
   "metadata": {
    "collapsed": true
   },
   "outputs": [],
   "source": [
    "import pailab.externals.sklearn_interface as sklearn_interface\n",
    "from sklearn.preprocessing import StandardScaler\n",
    "sklearn_interface.add_preprocessor(ml_repo, SimpleImputer(strategy = 'median', add_indicator=True), \n",
    "                                   preprocessor_name='SKLSimpleImputer', columns =  ['EXT_SOURCE_1', 'EXT_SOURCE_2', 'EXT_SOURCE_3'], \n",
    "                                  output_columns = ['EXT_SOURCE_1', 'EXT_SOURCE_2', 'EXT_SOURCE_3', \n",
    "                                                  'EXT_SOURCE_1_MISSING', 'EXT_SOURCE_2_MISSING', 'EXT_SOURCE_3_MISSING'])"
   ]
  },
  {
   "cell_type": "markdown",
   "metadata": {},
   "source": [
    "### Remove NaN"
   ]
  },
  {
   "cell_type": "code",
   "execution_count": 10,
   "metadata": {
    "collapsed": true
   },
   "outputs": [],
   "source": [
    "numpy_interface.add_preprocessor_remove_rows_nan(ml_repo, preprocessor_name='RemoveNaN')"
   ]
  },
  {
   "cell_type": "markdown",
   "metadata": {},
   "source": [
    "### Add Polynomial Features"
   ]
  },
  {
   "cell_type": "code",
   "execution_count": 11,
   "metadata": {
    "ExecuteTime": {
     "end_time": "2019-12-19T12:28:29.051997Z",
     "start_time": "2019-12-19T12:28:28.320233Z"
    },
    "collapsed": true
   },
   "outputs": [],
   "source": [
    "from sklearn.preprocessing import PolynomialFeatures\n",
    "sklearn_interface.add_preprocessor(ml_repo,PolynomialFeatures(degree = 3), preprocessor_name='PolynomialFeatures', \n",
    "                                   columns =  ['EXT_SOURCE_1', 'EXT_SOURCE_2', 'EXT_SOURCE_3'])"
   ]
  },
  {
   "cell_type": "markdown",
   "metadata": {},
   "source": [
    "## Add Trainings- and Testdata"
   ]
  },
  {
   "cell_type": "code",
   "execution_count": 12,
   "metadata": {
    "ExecuteTime": {
     "end_time": "2019-12-19T12:29:06.718343Z",
     "start_time": "2019-12-19T12:29:06.714351Z"
    },
    "collapsed": true
   },
   "outputs": [],
   "source": [
    "ml_repo.tree.training_data.add('training_data', 'raw_data/data', end_index = int(0.8*full_data.shape[0]))\n",
    "ml_repo.tree.test_data.add('test_data', 'raw_data/data', start_index = int(0.8*full_data.shape[0])+1)"
   ]
  },
  {
   "cell_type": "markdown",
   "metadata": {},
   "source": [
    "## Add DecisionTree"
   ]
  },
  {
   "cell_type": "markdown",
   "metadata": {},
   "source": [
    "To estimate the default of the home loans we start with a simple decision tree classifier from scikit-learn."
   ]
  },
  {
   "cell_type": "code",
   "execution_count": 13,
   "metadata": {
    "ExecuteTime": {
     "end_time": "2019-12-19T12:38:15.749656Z",
     "start_time": "2019-12-19T12:38:15.419708Z"
    },
    "collapsed": true
   },
   "outputs": [],
   "source": [
    "import pailab.externals.sklearn_interface as sklearn_interface\n",
    "sklearn_interface.add_model(ml_repo, tree.DecisionTreeClassifier(max_depth=3, min_samples_split = 2, criterion = 'gini', random_state=42), \n",
    "                           preprocessors=['column_selector_1', 'SKLSimpleImputer', 'RemoveNaN', 'PolynomialFeatures'])"
   ]
  },
  {
   "cell_type": "code",
   "execution_count": 14,
   "metadata": {
    "ExecuteTime": {
     "end_time": "2019-12-19T12:37:44.337261Z",
     "start_time": "2019-12-19T12:37:44.147317Z"
    },
    "scrolled": false
   },
   "outputs": [
    {
     "data": {
      "text/plain": [
       "('DecisionTreeClassifier/jobs/training',\n",
       " 'd0187314-5fdc-11ea-a241-b88a609550eb')"
      ]
     },
     "execution_count": 14,
     "metadata": {},
     "output_type": "execute_result"
    }
   ],
   "source": [
    "ml_repo.run_training()"
   ]
  },
  {
   "cell_type": "markdown",
   "metadata": {
    "collapsed": true
   },
   "source": [
    "## Add Measures"
   ]
  },
  {
   "cell_type": "markdown",
   "metadata": {},
   "source": [
    "Now that we have run the training, we would like to measure the quality of results. Here, we have the possibiliy to add certain measures to the repository. Here, we use the Area Under the Receiver Operator Characteristic Curve (ROC AUC or simply AUC), see e.g. [scikit-learn](https://scikit-learn.org/stable/modules/model_evaluation.html#roc-metrics) for more details."
   ]
  },
  {
   "cell_type": "code",
   "execution_count": 15,
   "metadata": {
    "collapsed": true
   },
   "outputs": [],
   "source": [
    "ml_repo.add_measure(pailab.MeasureConfiguration.ROC_AUC)"
   ]
  },
  {
   "cell_type": "markdown",
   "metadata": {},
   "source": [
    "To compute the AUC we need to call run_evaluation."
   ]
  },
  {
   "cell_type": "code",
   "execution_count": 16,
   "metadata": {},
   "outputs": [
    {
     "data": {
      "text/plain": [
       "[('DecisionTreeClassifier/model/jobs/eval_job/training_data',\n",
       "  'd2680d78-5fdc-11ea-bea2-b88a609550eb'),\n",
       " ('DecisionTreeClassifier/model/jobs/eval_job/test_data',\n",
       "  'd31c7c42-5fdc-11ea-99b6-b88a609550eb')]"
      ]
     },
     "execution_count": 16,
     "metadata": {},
     "output_type": "execute_result"
    }
   ],
   "source": [
    "# Note that without run_descendants=True the method would only run a prediction but \n",
    "# not compute the following step computing the scores and we would have to call \n",
    "# the function run_measures separately.\n",
    "ml_repo.run_evaluation(run_descendants=True) \n",
    "#ml_repo.run_measures() #uncomment this line if you do not use run_descendants=True above"
   ]
  },
  {
   "cell_type": "code",
   "execution_count": 17,
   "metadata": {},
   "outputs": [
    {
     "data": {
      "text/plain": [
       "['DecisionTreeClassifier/measure/training_data/roc_auc',\n",
       " 'DecisionTreeClassifier/measure/test_data/roc_auc']"
      ]
     },
     "execution_count": 17,
     "metadata": {},
     "output_type": "execute_result"
    }
   ],
   "source": [
    "# The method get_names shows us that we have two objects (the AUC on training and test data)\n",
    "ml_repo.get_names(pailab.MLObjectType.MEASURE)"
   ]
  },
  {
   "cell_type": "code",
   "execution_count": 18,
   "metadata": {},
   "outputs": [
    {
     "name": "stdout",
     "output_type": "stream",
     "text": [
      "AUC on training set: 0.5\n",
      "AUC on test set: 0.5\n"
     ]
    }
   ],
   "source": [
    "# to retrieve the value we retrieve the respective objects that contains the value\n",
    "measure = ml_repo.get('DecisionTreeClassifier/measure/training_data/roc_auc')\n",
    "print('AUC on training set: ' + str(measure.value))\n",
    "measure = ml_repo.get('DecisionTreeClassifier/measure/test_data/roc_auc')\n",
    "print('AUC on test set: ' + str(measure.value))\n"
   ]
  },
  {
   "cell_type": "markdown",
   "metadata": {},
   "source": [
    "As we can see, this is a very poor result (indeed the max_depth of the tree was set to 3 which is very low for the number of data). We now repeat the training for different depth parameter. For this, we just get the current model parameter, modify the depth parameter and call *run_training* again. Note that the sklearn interface stores the sklearn specific parameters in a dictionary with name *sklearn_params*."
   ]
  },
  {
   "cell_type": "code",
   "execution_count": 19,
   "metadata": {
    "collapsed": true
   },
   "outputs": [],
   "source": [
    "if False:\n",
    "    for i in [2,4, 8, 12, 16, 20, 24, 32, 48, 64, 96, 128]:\n",
    "        param =  ml_repo.get('DecisionTreeClassifier/model_param')\n",
    "        param.sklearn_params['max_depth'] = i\n",
    "        ml_repo.add(param)\n",
    "        ml_repo.run_training(run_descendants=True)"
   ]
  },
  {
   "cell_type": "markdown",
   "metadata": {},
   "source": [
    "## Analysis"
   ]
  },
  {
   "cell_type": "code",
   "execution_count": 20,
   "metadata": {},
   "outputs": [
    {
     "data": {
      "text/html": [
       "        <script type=\"text/javascript\">\n",
       "        window.PlotlyConfig = {MathJaxConfig: 'local'};\n",
       "        if (window.MathJax) {MathJax.Hub.Config({SVG: {font: \"STIX-Web\"}});}\n",
       "        if (typeof require !== 'undefined') {\n",
       "        require.undef(\"plotly\");\n",
       "        requirejs.config({\n",
       "            paths: {\n",
       "                'plotly': ['https://cdn.plot.ly/plotly-latest.min']\n",
       "            }\n",
       "        });\n",
       "        require(['plotly'], function(Plotly) {\n",
       "            window._Plotly = Plotly;\n",
       "        });\n",
       "        }\n",
       "        </script>\n",
       "        "
      ]
     },
     "metadata": {},
     "output_type": "display_data"
    }
   ],
   "source": [
    "from pailab.analysis import plot\n",
    "from pailab.analysis import tools_jupyter"
   ]
  },
  {
   "cell_type": "code",
   "execution_count": 21,
   "metadata": {},
   "outputs": [],
   "source": [
    "tools_jupyter.widget_repo.set_repo(ml_repo)"
   ]
  },
  {
   "cell_type": "code",
   "execution_count": 22,
   "metadata": {
    "scrolled": false
   },
   "outputs": [
    {
     "data": {
      "application/vnd.jupyter.widget-view+json": {
       "model_id": "25c3a992cec74a8697fa79f28989f5b1",
       "version_major": 2,
       "version_minor": 0
      },
      "text/plain": [
       "VBox(children=(HTML(value='<h3 style=\"Color: white; background-color:#d1d1e0; text-align: center\"> Measure vs …"
      ]
     },
     "metadata": {},
     "output_type": "display_data"
    },
    {
     "name": "stdout",
     "output_type": "stream",
     "text": [
      "{'name': '_property_lock', 'old': traitlets.Undefined, 'new': {'index': 0}, 'owner': Dropdown(options=('DecisionTreeClassifier/model',), value=None), 'type': 'change'}\n",
      "{'name': 'label', 'old': None, 'new': 'DecisionTreeClassifier/model', 'owner': Dropdown(options=('DecisionTreeClassifier/model',), value=None), 'type': 'change'}\n",
      "{'name': 'value', 'old': None, 'new': 'DecisionTreeClassifier/model', 'owner': Dropdown(options=('DecisionTreeClassifier/model',), value='DecisionTreeClassifier/model'), 'type': 'change'}\n",
      "DecisionTreeClassifier/model\n",
      "{'name': 'index', 'old': None, 'new': 0, 'owner': Dropdown(options=('DecisionTreeClassifier/model',), value='DecisionTreeClassifier/model'), 'type': 'change'}\n",
      "DecisionTreeClassifier/model\n",
      "{'name': '_property_lock', 'old': {'index': 0}, 'new': {}, 'owner': Dropdown(options=('DecisionTreeClassifier/model',), value='DecisionTreeClassifier/model'), 'type': 'change'}\n",
      "DecisionTreeClassifier/model\n"
     ]
    }
   ],
   "source": [
    "measure_vs_param = tools_jupyter.PlotMeasureVsParameter()\n",
    "display(measure_vs_param.get_widget())"
   ]
  },
  {
   "cell_type": "code",
   "execution_count": 23,
   "metadata": {},
   "outputs": [
    {
     "data": {
      "text/plain": [
       "Figure({\n",
       "    'data': [{'mode': 'markers',\n",
       "              'name': ('DecisionTreeClassifier/measure' ... '40-5fdc-11ea-baae-b88a609550eb'),\n",
       "              'text': [model version:\n",
       "                       d2566040-5fdc-11ea-87f3-b88a609550eb<br>training_data:\n",
       "                       d00eb240-5fdc-11ea-baae-b88a609550eb<br>train_data:\n",
       "                       d00eb240-5fdc-11ea-baae-b88a609550eb],\n",
       "              'type': 'scatter',\n",
       "              'uid': '2e31b098-ff83-4b33-a516-e54aa0875d72',\n",
       "              'x': array([3], dtype=int64),\n",
       "              'y': array([0.5])}],\n",
       "    'layout': {'title': {'text': 'measure by parameter'},\n",
       "               'xaxis': {'title': {'text': 'max_depth'}},\n",
       "               'yaxis': {'title': {'text': 'roc_auc'}}}\n",
       "})"
      ]
     },
     "execution_count": 23,
     "metadata": {},
     "output_type": "execute_result"
    }
   ],
   "source": [
    "plot.measure_by_parameter(ml_repo, ['DecisionTreeClassifier/measure/training_data/roc_auc'], 'max_depth')"
   ]
  },
  {
   "cell_type": "code",
   "execution_count": 24,
   "metadata": {},
   "outputs": [
    {
     "data": {
      "text/plain": [
       "{'ccp_alpha': 0.0,\n",
       " 'class_weight': None,\n",
       " 'criterion': 'gini',\n",
       " 'max_depth': 3,\n",
       " 'max_features': None,\n",
       " 'max_leaf_nodes': None,\n",
       " 'min_impurity_decrease': 0.0,\n",
       " 'min_impurity_split': None,\n",
       " 'min_samples_leaf': 1,\n",
       " 'min_samples_split': 2,\n",
       " 'min_weight_fraction_leaf': 0.0,\n",
       " 'presort': 'deprecated',\n",
       " 'random_state': 42,\n",
       " 'splitter': 'best'}"
      ]
     },
     "execution_count": 24,
     "metadata": {},
     "output_type": "execute_result"
    }
   ],
   "source": [
    "model_param = ml_repo.get_names(pailab.MLObjectType.MODEL_PARAM)\n",
    "model_param = ml_repo.get(model_param[0])\n",
    "model_param.get_params()"
   ]
  },
  {
   "cell_type": "code",
   "execution_count": 25,
   "metadata": {},
   "outputs": [
    {
     "data": {
      "text/plain": [
       "<function pailab.ml_repo.repo.NamingConventions.get_model_param_name>"
      ]
     },
     "execution_count": 25,
     "metadata": {},
     "output_type": "execute_result"
    }
   ],
   "source": [
    "from pailab.ml_repo.repo import NamingConventions\n",
    "NamingConventions.get_model_param_name"
   ]
  },
  {
   "cell_type": "code",
   "execution_count": 26,
   "metadata": {},
   "outputs": [
    {
     "data": {
      "application/vnd.jupyter.widget-view+json": {
       "model_id": "500fa06f8b1e48f19a449b8ff5136741",
       "version_major": 2,
       "version_minor": 0
      },
      "text/plain": [
       "VBox(children=(HTML(value='<h3 style=\"Color: white; background-color:#d1d1e0; text-align: center\"> Object Over…"
      ]
     },
     "metadata": {},
     "output_type": "display_data"
    }
   ],
   "source": [
    "repo_overview = tools_jupyter.ObjectOverviewList(ml_repo)\n",
    "display(repo_overview.get_widget())"
   ]
  }
 ],
 "metadata": {
  "hide_input": false,
  "kernelspec": {
   "display_name": "Python 3",
   "language": "python",
   "name": "python3"
  },
  "language_info": {
   "codemirror_mode": {
    "name": "ipython",
    "version": 3
   },
   "file_extension": ".py",
   "mimetype": "text/x-python",
   "name": "python",
   "nbconvert_exporter": "python",
   "pygments_lexer": "ipython3",
   "version": "3.6.1"
  },
  "toc": {
   "base_numbering": 1,
   "colors": {
    "hover_highlight": "#DAA520",
    "navigate_num": "#000000",
    "navigate_text": "#333333",
    "running_highlight": "#FF0000",
    "selected_highlight": "#FFD700",
    "sidebar_border": "#EEEEEE",
    "wrapper_background": "#FFFFFF"
   },
   "moveMenuLeft": true,
   "nav_menu": {},
   "navigate_menu": true,
   "number_sections": false,
   "sideBar": true,
   "skip_h1_title": false,
   "threshold": 4,
   "title_cell": "Table of Contents",
   "title_sidebar": "Contents",
   "toc_cell": false,
   "toc_position": {
    "height": "calc(100% - 180px)",
    "left": "10px",
    "top": "150px",
    "width": "308.168px"
   },
   "toc_section_display": true,
   "toc_window_display": true,
   "widenNotebook": false
  },
  "varInspector": {
   "cols": {
    "lenName": 16,
    "lenType": 16,
    "lenVar": 40
   },
   "kernels_config": {
    "python": {
     "delete_cmd_postfix": "",
     "delete_cmd_prefix": "del ",
     "library": "var_list.py",
     "varRefreshCmd": "print(var_dic_list())"
    },
    "r": {
     "delete_cmd_postfix": ") ",
     "delete_cmd_prefix": "rm(",
     "library": "var_list.r",
     "varRefreshCmd": "cat(var_dic_list()) "
    }
   },
   "types_to_exclude": [
    "module",
    "function",
    "builtin_function_or_method",
    "instance",
    "_Feature"
   ],
   "window_display": false
  }
 },
 "nbformat": 4,
 "nbformat_minor": 2
}
